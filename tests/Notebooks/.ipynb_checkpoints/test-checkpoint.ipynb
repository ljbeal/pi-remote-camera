{
 "cells": [
  {
   "cell_type": "code",
   "execution_count": 1,
   "id": "7997a984-2944-45e5-8eaf-4c4b1137b0b9",
   "metadata": {},
   "outputs": [],
   "source": [
    "import sys\n",
    "\n",
    "sys.path.insert(0, '../../')\n",
    "\n",
    "from src.kinematics import Movement, Servo"
   ]
  },
  {
   "cell_type": "code",
   "execution_count": 2,
   "id": "d750a714-742b-4cac-b974-436d005cd70a",
   "metadata": {},
   "outputs": [],
   "source": [
    "pos = Servo()"
   ]
  },
  {
   "cell_type": "code",
   "execution_count": 3,
   "id": "dc1902b2-04c9-4940-a46f-1b06504a2904",
   "metadata": {},
   "outputs": [
    {
     "name": "stdout",
     "output_type": "stream",
     "text": [
      "10.0\n"
     ]
    }
   ],
   "source": [
    "pos += 10\n",
    "print(pos)"
   ]
  },
  {
   "cell_type": "code",
   "execution_count": 4,
   "id": "57312267-e7be-48f4-9a5f-76c35b731da5",
   "metadata": {},
   "outputs": [
    {
     "name": "stdout",
     "output_type": "stream",
     "text": [
      "160.0\n"
     ]
    }
   ],
   "source": [
    "pos += 150\n",
    "print(pos)"
   ]
  },
  {
   "cell_type": "code",
   "execution_count": 5,
   "id": "630f6fca-4574-43ac-a2f7-c679f8e03028",
   "metadata": {},
   "outputs": [
    {
     "name": "stdout",
     "output_type": "stream",
     "text": [
      "10.0\n"
     ]
    }
   ],
   "source": [
    "pos += 30\n",
    "print(pos)"
   ]
  },
  {
   "cell_type": "code",
   "execution_count": 6,
   "id": "dfe79b96-d313-4a2f-89c0-f731644624e9",
   "metadata": {},
   "outputs": [
    {
     "name": "stdout",
     "output_type": "stream",
     "text": [
      "180.0\n"
     ]
    }
   ],
   "source": [
    "pos = Servo(loop=False)\n",
    "pos += 300\n",
    "print(pos)"
   ]
  },
  {
   "cell_type": "code",
   "execution_count": 7,
   "id": "d5bb4b8b-aa93-4450-b171-c88c33ae0d02",
   "metadata": {},
   "outputs": [
    {
     "name": "stdout",
     "output_type": "stream",
     "text": [
      "20.0\n"
     ]
    }
   ],
   "source": [
    "pos = Servo()\n",
    "pos += 200\n",
    "print(pos)"
   ]
  }
 ],
 "metadata": {
  "kernelspec": {
   "display_name": "Python 3 (ipykernel)",
   "language": "python",
   "name": "python3"
  },
  "language_info": {
   "codemirror_mode": {
    "name": "ipython",
    "version": 3
   },
   "file_extension": ".py",
   "mimetype": "text/x-python",
   "name": "python",
   "nbconvert_exporter": "python",
   "pygments_lexer": "ipython3",
   "version": "3.10.9"
  }
 },
 "nbformat": 4,
 "nbformat_minor": 5
}
